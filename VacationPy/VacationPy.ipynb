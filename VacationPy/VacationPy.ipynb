{
 "cells": [
  {
   "cell_type": "markdown",
   "metadata": {},
   "source": [
    "# Vacation.Py\n",
    "----\n",
    "\n",
    "#### Note\n",
    "* Instructions have been included for each segment. You do not have to follow them exactly, but they are included to help you think through the steps."
   ]
  },
  {
   "cell_type": "code",
   "execution_count": 6,
   "metadata": {},
   "outputs": [
    {
     "output_type": "stream",
     "name": "stdout",
     "text": [
      "Collecting matplotlib\n",
      "  Downloading matplotlib-3.4.2-cp39-cp39-macosx_10_9_x86_64.whl (7.2 MB)\n",
      "\u001b[K     |████████████████████████████████| 7.2 MB 3.2 MB/s \n",
      "\u001b[?25hRequirement already satisfied: python-dateutil>=2.7 in /Users/arieldunn/Library/Python/3.9/lib/python/site-packages (from matplotlib) (2.8.1)\n",
      "Collecting pillow>=6.2.0\n",
      "  Downloading Pillow-8.2.0-cp39-cp39-macosx_10_10_x86_64.whl (2.8 MB)\n",
      "\u001b[K     |████████████████████████████████| 2.8 MB 7.0 MB/s \n",
      "\u001b[?25hCollecting cycler>=0.10\n",
      "  Downloading cycler-0.10.0-py2.py3-none-any.whl (6.5 kB)\n",
      "Collecting kiwisolver>=1.0.1\n",
      "  Downloading kiwisolver-1.3.1-cp39-cp39-macosx_10_9_x86_64.whl (61 kB)\n",
      "\u001b[K     |████████████████████████████████| 61 kB 982 kB/s \n",
      "\u001b[?25hCollecting pyparsing>=2.2.1\n",
      "  Downloading pyparsing-2.4.7-py2.py3-none-any.whl (67 kB)\n",
      "\u001b[K     |████████████████████████████████| 67 kB 5.0 MB/s \n",
      "\u001b[?25hRequirement already satisfied: numpy>=1.16 in /Library/Frameworks/Python.framework/Versions/3.9/lib/python3.9/site-packages (from matplotlib) (1.20.3)\n",
      "Requirement already satisfied: six in /Users/arieldunn/Library/Python/3.9/lib/python/site-packages (from cycler>=0.10->matplotlib) (1.16.0)\n",
      "Installing collected packages: pyparsing, pillow, kiwisolver, cycler, matplotlib\n",
      "Successfully installed cycler-0.10.0 kiwisolver-1.3.1 matplotlib-3.4.2 pillow-8.2.0 pyparsing-2.4.7\n",
      "\u001b[33mWARNING: You are using pip version 21.1.1; however, version 21.1.2 is available.\n",
      "You should consider upgrading via the '/Library/Frameworks/Python.framework/Versions/3.9/bin/python3 -m pip install --upgrade pip' command.\u001b[0m\n",
      "Note: you may need to restart the kernel to use updated packages.\n"
     ]
    }
   ],
   "source": [
    "pip install matplotlib"
   ]
  },
  {
   "cell_type": "code",
   "execution_count": 9,
   "metadata": {},
   "outputs": [
    {
     "output_type": "stream",
     "name": "stdout",
     "text": [
      "Collecting pandas\n",
      "  Downloading pandas-1.2.4-cp39-cp39-macosx_10_9_x86_64.whl (10.7 MB)\n",
      "\u001b[K     |████████████████████████████████| 10.7 MB 340 kB/s \n",
      "\u001b[?25hCollecting pytz>=2017.3\n",
      "  Downloading pytz-2021.1-py2.py3-none-any.whl (510 kB)\n",
      "\u001b[K     |████████████████████████████████| 510 kB 337 kB/s \n",
      "\u001b[?25hRequirement already satisfied: python-dateutil>=2.7.3 in /Users/arieldunn/Library/Python/3.9/lib/python/site-packages (from pandas) (2.8.1)\n",
      "Requirement already satisfied: numpy>=1.16.5 in /Library/Frameworks/Python.framework/Versions/3.9/lib/python3.9/site-packages (from pandas) (1.20.3)\n",
      "Requirement already satisfied: six>=1.5 in /Users/arieldunn/Library/Python/3.9/lib/python/site-packages (from python-dateutil>=2.7.3->pandas) (1.16.0)\n",
      "Installing collected packages: pytz, pandas\n",
      "Successfully installed pandas-1.2.4 pytz-2021.1\n",
      "\u001b[33mWARNING: You are using pip version 21.1.1; however, version 21.1.2 is available.\n",
      "You should consider upgrading via the '/Library/Frameworks/Python.framework/Versions/3.9/bin/python3 -m pip install --upgrade pip' command.\u001b[0m\n",
      "Note: you may need to restart the kernel to use updated packages.\n"
     ]
    }
   ],
   "source": [
    "pip install pandas"
   ]
  },
  {
   "cell_type": "code",
   "execution_count": 11,
   "metadata": {},
   "outputs": [
    {
     "output_type": "stream",
     "name": "stdout",
     "text": [
      "Requirement already satisfied: numpy in /Library/Frameworks/Python.framework/Versions/3.9/lib/python3.9/site-packages (1.20.3)\n",
      "\u001b[33mWARNING: You are using pip version 21.1.1; however, version 21.1.2 is available.\n",
      "You should consider upgrading via the '/Library/Frameworks/Python.framework/Versions/3.9/bin/python3 -m pip install --upgrade pip' command.\u001b[0m\n",
      "Note: you may need to restart the kernel to use updated packages.\n"
     ]
    }
   ],
   "source": [
    "pip install numpy"
   ]
  },
  {
   "cell_type": "code",
   "execution_count": 16,
   "metadata": {},
   "outputs": [
    {
     "output_type": "stream",
     "name": "stdout",
     "text": [
      "Collecting requests\n",
      "  Downloading requests-2.25.1-py2.py3-none-any.whl (61 kB)\n",
      "\u001b[K     |████████████████████████████████| 61 kB 2.0 MB/s \n",
      "\u001b[?25hCollecting urllib3<1.27,>=1.21.1\n",
      "  Downloading urllib3-1.26.5-py2.py3-none-any.whl (138 kB)\n",
      "\u001b[K     |████████████████████████████████| 138 kB 4.1 MB/s \n",
      "\u001b[?25hCollecting chardet<5,>=3.0.2\n",
      "  Downloading chardet-4.0.0-py2.py3-none-any.whl (178 kB)\n",
      "\u001b[K     |████████████████████████████████| 178 kB 5.6 MB/s \n",
      "\u001b[?25hCollecting idna<3,>=2.5\n",
      "  Downloading idna-2.10-py2.py3-none-any.whl (58 kB)\n",
      "\u001b[K     |████████████████████████████████| 58 kB 3.7 MB/s \n",
      "\u001b[?25hRequirement already satisfied: certifi>=2017.4.17 in /Library/Frameworks/Python.framework/Versions/3.9/lib/python3.9/site-packages (from requests) (2020.12.5)\n",
      "Installing collected packages: urllib3, idna, chardet, requests\n",
      "Successfully installed chardet-4.0.0 idna-2.10 requests-2.25.1 urllib3-1.26.5\n",
      "\u001b[33mWARNING: You are using pip version 21.1.1; however, version 21.1.2 is available.\n",
      "You should consider upgrading via the '/Library/Frameworks/Python.framework/Versions/3.9/bin/python3 -m pip install --upgrade pip' command.\u001b[0m\n",
      "Note: you may need to restart the kernel to use updated packages.\n"
     ]
    }
   ],
   "source": [
    "pip install requests"
   ]
  },
  {
   "cell_type": "code",
   "execution_count": 19,
   "metadata": {},
   "outputs": [
    {
     "output_type": "stream",
     "name": "stdout",
     "text": [
      "Collecting gmaps\n",
      "  Using cached gmaps-0.9.0.tar.gz (1.1 MB)\n",
      "Requirement already satisfied: ipython>=5.3.0 in /Users/arieldunn/Library/Python/3.9/lib/python/site-packages (from gmaps) (7.24.1)\n",
      "Collecting ipywidgets>=7.0.0\n",
      "  Downloading ipywidgets-7.6.3-py2.py3-none-any.whl (121 kB)\n",
      "\u001b[K     |████████████████████████████████| 121 kB 2.2 MB/s \n",
      "\u001b[?25hRequirement already satisfied: traitlets>=4.3.0 in /Users/arieldunn/Library/Python/3.9/lib/python/site-packages (from gmaps) (5.0.5)\n",
      "Collecting geojson>=2.0.0\n",
      "  Using cached geojson-2.5.0-py2.py3-none-any.whl (14 kB)\n",
      "Requirement already satisfied: six in /Users/arieldunn/Library/Python/3.9/lib/python/site-packages (from gmaps) (1.16.0)\n",
      "Requirement already satisfied: setuptools>=18.5 in /Library/Frameworks/Python.framework/Versions/3.9/lib/python3.9/site-packages (from ipython>=5.3.0->gmaps) (56.0.0)\n",
      "Requirement already satisfied: backcall in /Users/arieldunn/Library/Python/3.9/lib/python/site-packages (from ipython>=5.3.0->gmaps) (0.2.0)\n",
      "Requirement already satisfied: prompt-toolkit!=3.0.0,!=3.0.1,<3.1.0,>=2.0.0 in /Users/arieldunn/Library/Python/3.9/lib/python/site-packages (from ipython>=5.3.0->gmaps) (3.0.18)\n",
      "Requirement already satisfied: matplotlib-inline in /Users/arieldunn/Library/Python/3.9/lib/python/site-packages (from ipython>=5.3.0->gmaps) (0.1.2)\n",
      "Requirement already satisfied: pickleshare in /Users/arieldunn/Library/Python/3.9/lib/python/site-packages (from ipython>=5.3.0->gmaps) (0.7.5)\n",
      "Requirement already satisfied: appnope in /Users/arieldunn/Library/Python/3.9/lib/python/site-packages (from ipython>=5.3.0->gmaps) (0.1.2)\n",
      "Requirement already satisfied: pexpect>4.3 in /Users/arieldunn/Library/Python/3.9/lib/python/site-packages (from ipython>=5.3.0->gmaps) (4.8.0)\n",
      "Requirement already satisfied: pygments in /Users/arieldunn/Library/Python/3.9/lib/python/site-packages (from ipython>=5.3.0->gmaps) (2.9.0)\n",
      "Requirement already satisfied: jedi>=0.16 in /Users/arieldunn/Library/Python/3.9/lib/python/site-packages (from ipython>=5.3.0->gmaps) (0.18.0)\n",
      "Requirement already satisfied: decorator in /Users/arieldunn/Library/Python/3.9/lib/python/site-packages (from ipython>=5.3.0->gmaps) (5.0.9)\n",
      "Collecting widgetsnbextension~=3.5.0\n",
      "  Downloading widgetsnbextension-3.5.1-py2.py3-none-any.whl (2.2 MB)\n",
      "\u001b[K     |████████████████████████████████| 2.2 MB 10.8 MB/s \n",
      "\u001b[?25hCollecting nbformat>=4.2.0\n",
      "  Downloading nbformat-5.1.3-py3-none-any.whl (178 kB)\n",
      "\u001b[K     |████████████████████████████████| 178 kB 60.2 MB/s \n",
      "\u001b[?25hRequirement already satisfied: ipykernel>=4.5.1 in /Users/arieldunn/Library/Python/3.9/lib/python/site-packages (from ipywidgets>=7.0.0->gmaps) (5.5.5)\n",
      "Collecting jupyterlab-widgets>=1.0.0\n",
      "  Downloading jupyterlab_widgets-1.0.0-py3-none-any.whl (243 kB)\n",
      "\u001b[K     |████████████████████████████████| 243 kB 80.0 MB/s \n",
      "\u001b[?25hRequirement already satisfied: jupyter-client in /Users/arieldunn/Library/Python/3.9/lib/python/site-packages (from ipykernel>=4.5.1->ipywidgets>=7.0.0->gmaps) (6.1.12)\n",
      "Requirement already satisfied: tornado>=4.2 in /Users/arieldunn/Library/Python/3.9/lib/python/site-packages (from ipykernel>=4.5.1->ipywidgets>=7.0.0->gmaps) (6.1)\n",
      "Requirement already satisfied: parso<0.9.0,>=0.8.0 in /Users/arieldunn/Library/Python/3.9/lib/python/site-packages (from jedi>=0.16->ipython>=5.3.0->gmaps) (0.8.2)\n",
      "Collecting jsonschema!=2.5.0,>=2.4\n",
      "  Downloading jsonschema-3.2.0-py2.py3-none-any.whl (56 kB)\n",
      "\u001b[K     |████████████████████████████████| 56 kB 11.1 MB/s \n",
      "\u001b[?25hRequirement already satisfied: jupyter-core in /Users/arieldunn/Library/Python/3.9/lib/python/site-packages (from nbformat>=4.2.0->ipywidgets>=7.0.0->gmaps) (4.7.1)\n",
      "Requirement already satisfied: ipython-genutils in /Users/arieldunn/Library/Python/3.9/lib/python/site-packages (from nbformat>=4.2.0->ipywidgets>=7.0.0->gmaps) (0.2.0)\n",
      "Collecting attrs>=17.4.0\n",
      "  Downloading attrs-21.2.0-py2.py3-none-any.whl (53 kB)\n",
      "\u001b[K     |████████████████████████████████| 53 kB 1.4 MB/s \n",
      "\u001b[?25hCollecting pyrsistent>=0.14.0\n",
      "  Downloading pyrsistent-0.17.3.tar.gz (106 kB)\n",
      "\u001b[K     |████████████████████████████████| 106 kB 23.2 MB/s \n",
      "\u001b[?25hRequirement already satisfied: ptyprocess>=0.5 in /Users/arieldunn/Library/Python/3.9/lib/python/site-packages (from pexpect>4.3->ipython>=5.3.0->gmaps) (0.7.0)\n",
      "Requirement already satisfied: wcwidth in /Users/arieldunn/Library/Python/3.9/lib/python/site-packages (from prompt-toolkit!=3.0.0,!=3.0.1,<3.1.0,>=2.0.0->ipython>=5.3.0->gmaps) (0.2.5)\n",
      "Collecting notebook>=4.4.1\n",
      "  Downloading notebook-6.4.0-py3-none-any.whl (9.5 MB)\n",
      "\u001b[K     |████████████████████████████████| 9.5 MB 49.0 MB/s \n",
      "\u001b[?25hCollecting terminado>=0.8.3\n",
      "  Downloading terminado-0.10.1-py3-none-any.whl (14 kB)\n",
      "Collecting jinja2\n",
      "  Downloading Jinja2-3.0.1-py3-none-any.whl (133 kB)\n",
      "\u001b[K     |████████████████████████████████| 133 kB 22.4 MB/s \n",
      "\u001b[?25hRequirement already satisfied: pyzmq>=17 in /Users/arieldunn/Library/Python/3.9/lib/python/site-packages (from notebook>=4.4.1->widgetsnbextension~=3.5.0->ipywidgets>=7.0.0->gmaps) (22.1.0)\n",
      "Collecting nbconvert\n",
      "  Downloading nbconvert-6.0.7-py3-none-any.whl (552 kB)\n",
      "\u001b[K     |████████████████████████████████| 552 kB 21.7 MB/s \n",
      "\u001b[?25hCollecting argon2-cffi\n",
      "  Downloading argon2_cffi-20.1.0-cp37-abi3-macosx_10_6_intel.whl (65 kB)\n",
      "\u001b[K     |████████████████████████████████| 65 kB 6.6 MB/s \n",
      "\u001b[?25hCollecting Send2Trash>=1.5.0\n",
      "  Downloading Send2Trash-1.5.0-py3-none-any.whl (12 kB)\n",
      "Collecting prometheus-client\n",
      "  Downloading prometheus_client-0.11.0-py2.py3-none-any.whl (56 kB)\n",
      "\u001b[K     |████████████████████████████████| 56 kB 5.9 MB/s \n",
      "\u001b[?25hRequirement already satisfied: python-dateutil>=2.1 in /Users/arieldunn/Library/Python/3.9/lib/python/site-packages (from jupyter-client->ipykernel>=4.5.1->ipywidgets>=7.0.0->gmaps) (2.8.1)\n",
      "Collecting cffi>=1.0.0\n",
      "  Downloading cffi-1.14.5-cp39-cp39-macosx_10_9_x86_64.whl (177 kB)\n",
      "\u001b[K     |████████████████████████████████| 177 kB 16.7 MB/s \n",
      "\u001b[?25hCollecting pycparser\n",
      "  Downloading pycparser-2.20-py2.py3-none-any.whl (112 kB)\n",
      "\u001b[K     |████████████████████████████████| 112 kB 37.9 MB/s \n",
      "\u001b[?25hCollecting MarkupSafe>=2.0\n",
      "  Downloading MarkupSafe-2.0.1-cp39-cp39-macosx_10_9_x86_64.whl (13 kB)\n",
      "Collecting jupyterlab-pygments\n",
      "  Downloading jupyterlab_pygments-0.1.2-py2.py3-none-any.whl (4.6 kB)\n",
      "Collecting defusedxml\n",
      "  Downloading defusedxml-0.7.1-py2.py3-none-any.whl (25 kB)\n",
      "Collecting testpath\n",
      "  Downloading testpath-0.5.0-py3-none-any.whl (84 kB)\n",
      "\u001b[K     |████████████████████████████████| 84 kB 7.0 MB/s \n",
      "\u001b[?25hCollecting entrypoints>=0.2.2\n",
      "  Downloading entrypoints-0.3-py2.py3-none-any.whl (11 kB)\n",
      "Collecting pandocfilters>=1.4.1\n",
      "  Downloading pandocfilters-1.4.3.tar.gz (16 kB)\n",
      "Collecting bleach\n",
      "  Downloading bleach-3.3.0-py2.py3-none-any.whl (283 kB)\n",
      "\u001b[K     |████████████████████████████████| 283 kB 53.0 MB/s \n",
      "\u001b[?25hCollecting nbclient<0.6.0,>=0.5.0\n",
      "  Downloading nbclient-0.5.3-py3-none-any.whl (82 kB)\n",
      "\u001b[K     |████████████████████████████████| 82 kB 2.5 MB/s \n",
      "\u001b[?25hCollecting mistune<2,>=0.8.1\n",
      "  Downloading mistune-0.8.4-py2.py3-none-any.whl (16 kB)\n",
      "Collecting nest-asyncio\n",
      "  Downloading nest_asyncio-1.5.1-py3-none-any.whl (5.0 kB)\n",
      "Collecting async-generator\n",
      "  Downloading async_generator-1.10-py3-none-any.whl (18 kB)\n",
      "Collecting webencodings\n",
      "  Downloading webencodings-0.5.1-py2.py3-none-any.whl (11 kB)\n",
      "Collecting packaging\n",
      "  Downloading packaging-20.9-py2.py3-none-any.whl (40 kB)\n",
      "\u001b[K     |████████████████████████████████| 40 kB 8.9 MB/s \n",
      "\u001b[?25hRequirement already satisfied: pyparsing>=2.0.2 in /Library/Frameworks/Python.framework/Versions/3.9/lib/python3.9/site-packages (from packaging->bleach->nbconvert->notebook>=4.4.1->widgetsnbextension~=3.5.0->ipywidgets>=7.0.0->gmaps) (2.4.7)\n",
      "Using legacy 'setup.py install' for gmaps, since package 'wheel' is not installed.\n",
      "Using legacy 'setup.py install' for pyrsistent, since package 'wheel' is not installed.\n",
      "Using legacy 'setup.py install' for pandocfilters, since package 'wheel' is not installed.\n",
      "Installing collected packages: pyrsistent, attrs, jsonschema, webencodings, pycparser, packaging, nest-asyncio, nbformat, MarkupSafe, async-generator, testpath, pandocfilters, nbclient, mistune, jupyterlab-pygments, jinja2, entrypoints, defusedxml, cffi, bleach, terminado, Send2Trash, prometheus-client, nbconvert, argon2-cffi, notebook, widgetsnbextension, jupyterlab-widgets, ipywidgets, geojson, gmaps\n",
      "    Running setup.py install for pyrsistent ... \u001b[?25ldone\n",
      "\u001b[?25h    Running setup.py install for pandocfilters ... \u001b[?25ldone\n",
      "\u001b[?25h    Running setup.py install for gmaps ... \u001b[?25ldone\n",
      "\u001b[?25hSuccessfully installed MarkupSafe-2.0.1 Send2Trash-1.5.0 argon2-cffi-20.1.0 async-generator-1.10 attrs-21.2.0 bleach-3.3.0 cffi-1.14.5 defusedxml-0.7.1 entrypoints-0.3 geojson-2.5.0 gmaps-0.9.0 ipywidgets-7.6.3 jinja2-3.0.1 jsonschema-3.2.0 jupyterlab-pygments-0.1.2 jupyterlab-widgets-1.0.0 mistune-0.8.4 nbclient-0.5.3 nbconvert-6.0.7 nbformat-5.1.3 nest-asyncio-1.5.1 notebook-6.4.0 packaging-20.9 pandocfilters-1.4.3 prometheus-client-0.11.0 pycparser-2.20 pyrsistent-0.17.3 terminado-0.10.1 testpath-0.5.0 webencodings-0.5.1 widgetsnbextension-3.5.1\n",
      "\u001b[33mWARNING: You are using pip version 21.1.1; however, version 21.1.2 is available.\n",
      "You should consider upgrading via the '/Library/Frameworks/Python.framework/Versions/3.9/bin/python3 -m pip install --upgrade pip' command.\u001b[0m\n",
      "Note: you may need to restart the kernel to use updated packages.\n"
     ]
    }
   ],
   "source": [
    "pip install gmaps"
   ]
  },
  {
   "cell_type": "code",
   "execution_count": 37,
   "metadata": {},
   "outputs": [],
   "source": [
    "# Dependencies and Setup\n",
    "import matplotlib.pyplot as plt\n",
    "import pandas as pd\n",
    "import numpy as np\n",
    "import requests\n",
    "import gmaps\n",
    "import os\n",
    "import json\n",
    "import time\n",
    "\n",
    "# Import API key\n",
    "from api_keys import g_key"
   ]
  },
  {
   "cell_type": "markdown",
   "metadata": {},
   "source": [
    "### Store Part I results into DataFrame\n",
    "* Load the csv exported in Part I to a DataFrame"
   ]
  },
  {
   "cell_type": "code",
   "execution_count": 38,
   "metadata": {},
   "outputs": [
    {
     "output_type": "execute_result",
     "data": {
      "text/plain": [
       "                City  Cloudiness Country        Date  Humidity      Lat  \\\n",
       "0          Caratinga          64      BR  1623954946        55 -19.7897   \n",
       "1             Dikson         100      RU  1623954726        98  73.5069   \n",
       "2    Tiznit Province          48      MA  1623954793        74  29.5833   \n",
       "3          Tambopata          40      PE  1623954947        61 -12.7333   \n",
       "4             Naples           0      IT  1623954841        70  40.8333   \n",
       "..               ...         ...     ...         ...       ...      ...   \n",
       "538     Quatre Cocos          34      MU  1623954821        78 -20.2078   \n",
       "539        Berezovyy         100      RU  1623955070        95  51.6667   \n",
       "540           Rūdbār           0      AF  1623955071        10  30.1500   \n",
       "541           Musoma          20      TZ  1623955071        73  -1.5000   \n",
       "542            Yumen          97      CN  1623954891        21  40.2833   \n",
       "\n",
       "          Lng  Max Temp  Wind Speed  \n",
       "0    -42.1392     74.68        5.08  \n",
       "1     80.5464     31.66       13.40  \n",
       "2     -9.5000     64.49       12.26  \n",
       "3    -69.1833     82.29        4.61  \n",
       "4     14.2500     75.81        1.01  \n",
       "..        ...       ...         ...  \n",
       "538   57.7625     69.91       15.03  \n",
       "539  135.7000     55.94        3.71  \n",
       "540   62.6000     88.57       20.29  \n",
       "541   33.8000     73.40        4.81  \n",
       "542   97.2000     63.50        7.05  \n",
       "\n",
       "[543 rows x 9 columns]"
      ],
      "text/html": "<div>\n<style scoped>\n    .dataframe tbody tr th:only-of-type {\n        vertical-align: middle;\n    }\n\n    .dataframe tbody tr th {\n        vertical-align: top;\n    }\n\n    .dataframe thead th {\n        text-align: right;\n    }\n</style>\n<table border=\"1\" class=\"dataframe\">\n  <thead>\n    <tr style=\"text-align: right;\">\n      <th></th>\n      <th>City</th>\n      <th>Cloudiness</th>\n      <th>Country</th>\n      <th>Date</th>\n      <th>Humidity</th>\n      <th>Lat</th>\n      <th>Lng</th>\n      <th>Max Temp</th>\n      <th>Wind Speed</th>\n    </tr>\n  </thead>\n  <tbody>\n    <tr>\n      <th>0</th>\n      <td>Caratinga</td>\n      <td>64</td>\n      <td>BR</td>\n      <td>1623954946</td>\n      <td>55</td>\n      <td>-19.7897</td>\n      <td>-42.1392</td>\n      <td>74.68</td>\n      <td>5.08</td>\n    </tr>\n    <tr>\n      <th>1</th>\n      <td>Dikson</td>\n      <td>100</td>\n      <td>RU</td>\n      <td>1623954726</td>\n      <td>98</td>\n      <td>73.5069</td>\n      <td>80.5464</td>\n      <td>31.66</td>\n      <td>13.40</td>\n    </tr>\n    <tr>\n      <th>2</th>\n      <td>Tiznit Province</td>\n      <td>48</td>\n      <td>MA</td>\n      <td>1623954793</td>\n      <td>74</td>\n      <td>29.5833</td>\n      <td>-9.5000</td>\n      <td>64.49</td>\n      <td>12.26</td>\n    </tr>\n    <tr>\n      <th>3</th>\n      <td>Tambopata</td>\n      <td>40</td>\n      <td>PE</td>\n      <td>1623954947</td>\n      <td>61</td>\n      <td>-12.7333</td>\n      <td>-69.1833</td>\n      <td>82.29</td>\n      <td>4.61</td>\n    </tr>\n    <tr>\n      <th>4</th>\n      <td>Naples</td>\n      <td>0</td>\n      <td>IT</td>\n      <td>1623954841</td>\n      <td>70</td>\n      <td>40.8333</td>\n      <td>14.2500</td>\n      <td>75.81</td>\n      <td>1.01</td>\n    </tr>\n    <tr>\n      <th>...</th>\n      <td>...</td>\n      <td>...</td>\n      <td>...</td>\n      <td>...</td>\n      <td>...</td>\n      <td>...</td>\n      <td>...</td>\n      <td>...</td>\n      <td>...</td>\n    </tr>\n    <tr>\n      <th>538</th>\n      <td>Quatre Cocos</td>\n      <td>34</td>\n      <td>MU</td>\n      <td>1623954821</td>\n      <td>78</td>\n      <td>-20.2078</td>\n      <td>57.7625</td>\n      <td>69.91</td>\n      <td>15.03</td>\n    </tr>\n    <tr>\n      <th>539</th>\n      <td>Berezovyy</td>\n      <td>100</td>\n      <td>RU</td>\n      <td>1623955070</td>\n      <td>95</td>\n      <td>51.6667</td>\n      <td>135.7000</td>\n      <td>55.94</td>\n      <td>3.71</td>\n    </tr>\n    <tr>\n      <th>540</th>\n      <td>Rūdbār</td>\n      <td>0</td>\n      <td>AF</td>\n      <td>1623955071</td>\n      <td>10</td>\n      <td>30.1500</td>\n      <td>62.6000</td>\n      <td>88.57</td>\n      <td>20.29</td>\n    </tr>\n    <tr>\n      <th>541</th>\n      <td>Musoma</td>\n      <td>20</td>\n      <td>TZ</td>\n      <td>1623955071</td>\n      <td>73</td>\n      <td>-1.5000</td>\n      <td>33.8000</td>\n      <td>73.40</td>\n      <td>4.81</td>\n    </tr>\n    <tr>\n      <th>542</th>\n      <td>Yumen</td>\n      <td>97</td>\n      <td>CN</td>\n      <td>1623954891</td>\n      <td>21</td>\n      <td>40.2833</td>\n      <td>97.2000</td>\n      <td>63.50</td>\n      <td>7.05</td>\n    </tr>\n  </tbody>\n</table>\n<p>543 rows × 9 columns</p>\n</div>"
     },
     "metadata": {},
     "execution_count": 38
    }
   ],
   "source": [
    "weather_data = pd.read_csv(\"../WeatherPy/output_data/cities.csv\")\n",
    "weather_data"
   ]
  },
  {
   "cell_type": "markdown",
   "metadata": {},
   "source": [
    "### Humidity Heatmap\n",
    "* Configure gmaps.\n",
    "* Use the Lat and Lng as locations and Humidity as the weight.\n",
    "* Add Heatmap layer to map."
   ]
  },
  {
   "cell_type": "code",
   "execution_count": 39,
   "metadata": {},
   "outputs": [],
   "source": [
    "# Configure gmaps\n",
    "gmaps.configure(api_key=g_key)\n",
    "\n",
    "# Store latitude and longitude in locations\n",
    "locations = weather_data[[\"Lat\", \"Lng\"]]\n",
    "\n",
    "# Store Humidity in humidity\n",
    "humidity = weather_data[\"Humidity\"]"
   ]
  },
  {
   "cell_type": "code",
   "execution_count": 40,
   "metadata": {},
   "outputs": [
    {
     "output_type": "display_data",
     "data": {
      "text/plain": "Figure(layout=FigureLayout(height='420px'))",
      "application/vnd.jupyter.widget-view+json": {
       "version_major": 2,
       "version_minor": 0,
       "model_id": "69221cbc95ad45ccb891e413224ee470"
      }
     },
     "metadata": {}
    }
   ],
   "source": [
    "# Plot Heatmap\n",
    "fig = gmaps.figure(center=(46.0, -5.0), zoom_level=2)\n",
    "max_intensity = np.max(humidity)\n",
    "\n",
    "# Create heat layer\n",
    "heat_layer = gmaps.heatmap_layer(locations, weights = humidity, dissipating=False, max_intensity=100, point_radius=3)\n",
    "\n",
    "# Add layer\n",
    "fig.add_layer(heat_layer)\n",
    "\n",
    "# Display figure\n",
    "fig"
   ]
  },
  {
   "cell_type": "code",
   "execution_count": 41,
   "metadata": {},
   "outputs": [
    {
     "output_type": "execute_result",
     "data": {
      "text/plain": [
       "100"
      ]
     },
     "metadata": {},
     "execution_count": 41
    }
   ],
   "source": [
    "max_intensity"
   ]
  },
  {
   "cell_type": "markdown",
   "metadata": {},
   "source": [
    "### Create new DataFrame fitting weather criteria\n",
    "* Narrow down the cities to fit weather conditions.\n",
    "* Drop any rows will null values."
   ]
  },
  {
   "cell_type": "code",
   "execution_count": 42,
   "metadata": {},
   "outputs": [
    {
     "output_type": "execute_result",
     "data": {
      "text/plain": [
       "             City  Cloudiness Country        Date  Humidity      Lat  \\\n",
       "4          Naples           0      IT  1623954841        70  40.8333   \n",
       "63     Kiryat Gat           0      IL  1623954783        16  31.6100   \n",
       "242    Marsaxlokk           0      MT  1623954990        73  35.8419   \n",
       "302  Saint-Pierre           0      RE  1623954816        82 -21.3393   \n",
       "308   Turkmenabat           0      TM  1623955006        21  39.0733   \n",
       "351       Birecik           0      TR  1623955021        49  37.0294   \n",
       "399     Terrasini           0      IT  1623955033        64  38.1460   \n",
       "511     Luancheng           0      CN  1623955062        64  37.8792   \n",
       "537          Bari           0      IT  1623955070        46  41.1177   \n",
       "\n",
       "          Lng  Max Temp  Wind Speed  \n",
       "4     14.2500     75.81        1.01  \n",
       "63    34.7642     75.99        6.35  \n",
       "242   14.5431     74.08        6.91  \n",
       "302   55.4781     71.24        4.61  \n",
       "308   63.5786     78.80        6.91  \n",
       "351   37.9903     73.40        6.91  \n",
       "399   13.0844     78.10        5.75  \n",
       "511  114.6517     71.60        6.71  \n",
       "537   16.8512     75.99        5.75  "
      ],
      "text/html": "<div>\n<style scoped>\n    .dataframe tbody tr th:only-of-type {\n        vertical-align: middle;\n    }\n\n    .dataframe tbody tr th {\n        vertical-align: top;\n    }\n\n    .dataframe thead th {\n        text-align: right;\n    }\n</style>\n<table border=\"1\" class=\"dataframe\">\n  <thead>\n    <tr style=\"text-align: right;\">\n      <th></th>\n      <th>City</th>\n      <th>Cloudiness</th>\n      <th>Country</th>\n      <th>Date</th>\n      <th>Humidity</th>\n      <th>Lat</th>\n      <th>Lng</th>\n      <th>Max Temp</th>\n      <th>Wind Speed</th>\n    </tr>\n  </thead>\n  <tbody>\n    <tr>\n      <th>4</th>\n      <td>Naples</td>\n      <td>0</td>\n      <td>IT</td>\n      <td>1623954841</td>\n      <td>70</td>\n      <td>40.8333</td>\n      <td>14.2500</td>\n      <td>75.81</td>\n      <td>1.01</td>\n    </tr>\n    <tr>\n      <th>63</th>\n      <td>Kiryat Gat</td>\n      <td>0</td>\n      <td>IL</td>\n      <td>1623954783</td>\n      <td>16</td>\n      <td>31.6100</td>\n      <td>34.7642</td>\n      <td>75.99</td>\n      <td>6.35</td>\n    </tr>\n    <tr>\n      <th>242</th>\n      <td>Marsaxlokk</td>\n      <td>0</td>\n      <td>MT</td>\n      <td>1623954990</td>\n      <td>73</td>\n      <td>35.8419</td>\n      <td>14.5431</td>\n      <td>74.08</td>\n      <td>6.91</td>\n    </tr>\n    <tr>\n      <th>302</th>\n      <td>Saint-Pierre</td>\n      <td>0</td>\n      <td>RE</td>\n      <td>1623954816</td>\n      <td>82</td>\n      <td>-21.3393</td>\n      <td>55.4781</td>\n      <td>71.24</td>\n      <td>4.61</td>\n    </tr>\n    <tr>\n      <th>308</th>\n      <td>Turkmenabat</td>\n      <td>0</td>\n      <td>TM</td>\n      <td>1623955006</td>\n      <td>21</td>\n      <td>39.0733</td>\n      <td>63.5786</td>\n      <td>78.80</td>\n      <td>6.91</td>\n    </tr>\n    <tr>\n      <th>351</th>\n      <td>Birecik</td>\n      <td>0</td>\n      <td>TR</td>\n      <td>1623955021</td>\n      <td>49</td>\n      <td>37.0294</td>\n      <td>37.9903</td>\n      <td>73.40</td>\n      <td>6.91</td>\n    </tr>\n    <tr>\n      <th>399</th>\n      <td>Terrasini</td>\n      <td>0</td>\n      <td>IT</td>\n      <td>1623955033</td>\n      <td>64</td>\n      <td>38.1460</td>\n      <td>13.0844</td>\n      <td>78.10</td>\n      <td>5.75</td>\n    </tr>\n    <tr>\n      <th>511</th>\n      <td>Luancheng</td>\n      <td>0</td>\n      <td>CN</td>\n      <td>1623955062</td>\n      <td>64</td>\n      <td>37.8792</td>\n      <td>114.6517</td>\n      <td>71.60</td>\n      <td>6.71</td>\n    </tr>\n    <tr>\n      <th>537</th>\n      <td>Bari</td>\n      <td>0</td>\n      <td>IT</td>\n      <td>1623955070</td>\n      <td>46</td>\n      <td>41.1177</td>\n      <td>16.8512</td>\n      <td>75.99</td>\n      <td>5.75</td>\n    </tr>\n  </tbody>\n</table>\n</div>"
     },
     "metadata": {},
     "execution_count": 42
    }
   ],
   "source": [
    "# Narrow down the cities with wind speed less than 10 mph, cloudiness equals to 0 and max temp between 60 and 80\n",
    "narrowed_city_df = weather_data.loc[(weather_data[\"Wind Speed\"] <= 10) & (weather_data[\"Cloudiness\"] == 0) & \\\n",
    "                                   (weather_data[\"Max Temp\"] >= 70) & (weather_data[\"Max Temp\"] <= 80)].dropna()\n",
    "\n",
    "narrowed_city_df"
   ]
  },
  {
   "cell_type": "markdown",
   "metadata": {},
   "source": [
    "### Hotel Map\n",
    "* Store into variable named `hotel_df`.\n",
    "* Add a \"Hotel Name\" column to the DataFrame.\n",
    "* Set parameters to search for hotels with 5000 meters.\n",
    "* Hit the Google Places API for each city's coordinates.\n",
    "* Store the first Hotel result into the DataFrame.\n",
    "* Plot markers on top of the heatmap."
   ]
  },
  {
   "cell_type": "code",
   "execution_count": 43,
   "metadata": {},
   "outputs": [
    {
     "output_type": "execute_result",
     "data": {
      "text/plain": [
       "             City Country      Lat       Lng Hotel Name\n",
       "4          Naples      IT  40.8333   14.2500           \n",
       "63     Kiryat Gat      IL  31.6100   34.7642           \n",
       "242    Marsaxlokk      MT  35.8419   14.5431           \n",
       "302  Saint-Pierre      RE -21.3393   55.4781           \n",
       "308   Turkmenabat      TM  39.0733   63.5786           \n",
       "351       Birecik      TR  37.0294   37.9903           \n",
       "399     Terrasini      IT  38.1460   13.0844           \n",
       "511     Luancheng      CN  37.8792  114.6517           \n",
       "537          Bari      IT  41.1177   16.8512           "
      ],
      "text/html": "<div>\n<style scoped>\n    .dataframe tbody tr th:only-of-type {\n        vertical-align: middle;\n    }\n\n    .dataframe tbody tr th {\n        vertical-align: top;\n    }\n\n    .dataframe thead th {\n        text-align: right;\n    }\n</style>\n<table border=\"1\" class=\"dataframe\">\n  <thead>\n    <tr style=\"text-align: right;\">\n      <th></th>\n      <th>City</th>\n      <th>Country</th>\n      <th>Lat</th>\n      <th>Lng</th>\n      <th>Hotel Name</th>\n    </tr>\n  </thead>\n  <tbody>\n    <tr>\n      <th>4</th>\n      <td>Naples</td>\n      <td>IT</td>\n      <td>40.8333</td>\n      <td>14.2500</td>\n      <td></td>\n    </tr>\n    <tr>\n      <th>63</th>\n      <td>Kiryat Gat</td>\n      <td>IL</td>\n      <td>31.6100</td>\n      <td>34.7642</td>\n      <td></td>\n    </tr>\n    <tr>\n      <th>242</th>\n      <td>Marsaxlokk</td>\n      <td>MT</td>\n      <td>35.8419</td>\n      <td>14.5431</td>\n      <td></td>\n    </tr>\n    <tr>\n      <th>302</th>\n      <td>Saint-Pierre</td>\n      <td>RE</td>\n      <td>-21.3393</td>\n      <td>55.4781</td>\n      <td></td>\n    </tr>\n    <tr>\n      <th>308</th>\n      <td>Turkmenabat</td>\n      <td>TM</td>\n      <td>39.0733</td>\n      <td>63.5786</td>\n      <td></td>\n    </tr>\n    <tr>\n      <th>351</th>\n      <td>Birecik</td>\n      <td>TR</td>\n      <td>37.0294</td>\n      <td>37.9903</td>\n      <td></td>\n    </tr>\n    <tr>\n      <th>399</th>\n      <td>Terrasini</td>\n      <td>IT</td>\n      <td>38.1460</td>\n      <td>13.0844</td>\n      <td></td>\n    </tr>\n    <tr>\n      <th>511</th>\n      <td>Luancheng</td>\n      <td>CN</td>\n      <td>37.8792</td>\n      <td>114.6517</td>\n      <td></td>\n    </tr>\n    <tr>\n      <th>537</th>\n      <td>Bari</td>\n      <td>IT</td>\n      <td>41.1177</td>\n      <td>16.8512</td>\n      <td></td>\n    </tr>\n  </tbody>\n</table>\n</div>"
     },
     "metadata": {},
     "execution_count": 43
    }
   ],
   "source": [
    "# Create a hotel_df\n",
    "hotel_df = narrowed_city_df.loc[:,[\"City\",\"Country\", \"Lat\", \"Lng\"]]\n",
    "\n",
    "# Add a \"Hotel Name\" column to the DataFrame.\n",
    "hotel_df[\"Hotel Name\"] = \"\"\n",
    "\n",
    "# Display the result\n",
    "hotel_df"
   ]
  },
  {
   "cell_type": "code",
   "execution_count": 44,
   "metadata": {},
   "outputs": [],
   "source": [
    "base_url = \"https://maps.googleapis.com/maps/api/place/nearbysearch/json\"\n",
    "\n",
    "params = {\"type\" : \"hotel\",\n",
    "          \"keyword\" : \"hotel\",\n",
    "          \"radius\" : 5000,\n",
    "          \"key\" : g_key}"
   ]
  },
  {
   "cell_type": "code",
   "execution_count": 9,
   "metadata": {},
   "outputs": [
    {
     "output_type": "stream",
     "name": "stdout",
     "text": [
      "Retrieving Results for Index 4: Naples.\n",
      "Closest hotel in Naples is Romeo Hotel.\n",
      "------------\n",
      "Retrieving Results for Index 63: Kiryat Gat.\n",
      "Closest hotel in Kiryat Gat is Desert Gat.\n",
      "------------\n",
      "Retrieving Results for Index 242: Marsaxlokk.\n",
      "Closest hotel in Marsaxlokk is Cugó Gran Macina Grand Harbour.\n",
      "------------\n",
      "Retrieving Results for Index 302: Saint-Pierre.\n",
      "Closest hotel in Saint-Pierre is Le Battant Des Lames.\n",
      "------------\n",
      "Retrieving Results for Index 308: Turkmenabat.\n",
      "Closest hotel in Turkmenabat is Гостиница \"Yupek Yoly\" (Шелковый путь).\n",
      "------------\n",
      "Retrieving Results for Index 351: Birecik.\n",
      "Closest hotel in Birecik is Otel Doğan.\n",
      "------------\n",
      "Retrieving Results for Index 399: Terrasini.\n",
      "Closest hotel in Terrasini is Hotel Perla Del Golfo.\n",
      "------------\n",
      "Retrieving Results for Index 511: Luancheng.\n",
      "Missing field/result... skipping.\n",
      "------------\n",
      "Retrieving Results for Index 537: Bari.\n",
      "Closest hotel in Bari is iH Hotels Bari Grande Albergo delle Nazioni.\n",
      "------------\n",
      "-------End of Search-------\n"
     ]
    }
   ],
   "source": [
    "for index, row in hotel_df.iterrows():\n",
    "    # get city name, lat, lnt from df\n",
    "    lat = row[\"Lat\"]\n",
    "    lng = row[\"Lng\"]\n",
    "    city_name = row[\"City\"]\n",
    "    \n",
    "    # add keyword to params dict\n",
    "    params[\"location\"] = f\"{lat},{lng}\"\n",
    "\n",
    "    # assemble url and make API request\n",
    "    print(f\"Retrieving Results for Index {index}: {city_name}.\")\n",
    "    response = requests.get(base_url, params=params).json()\n",
    "    \n",
    "    # extract results\n",
    "    results = response['results']\n",
    "    \n",
    "    # save the hotel name to dataframe\n",
    "    try:\n",
    "        print(f\"Closest hotel in {city_name} is {results[0]['name']}.\")\n",
    "        hotel_df.loc[index, \"Hotel Name\"] = results[0]['name']\n",
    "\n",
    "    # if there is no hotel available, show missing field\n",
    "    except (KeyError, IndexError):\n",
    "        print(\"Missing field/result... skipping.\")\n",
    "        \n",
    "    print(\"------------\")\n",
    "    \n",
    "    # Wait 1 sec to make another api request to avoid SSL Error\n",
    "    time.sleep(1)\n",
    "\n",
    "# Print end of search once searching is completed\n",
    "print(\"-------End of Search-------\")"
   ]
  },
  {
   "cell_type": "code",
   "execution_count": 45,
   "metadata": {},
   "outputs": [
    {
     "output_type": "execute_result",
     "data": {
      "text/plain": [
       "             City Country      Lat       Lng Hotel Name\n",
       "4          Naples      IT  40.8333   14.2500           \n",
       "63     Kiryat Gat      IL  31.6100   34.7642           \n",
       "242    Marsaxlokk      MT  35.8419   14.5431           \n",
       "302  Saint-Pierre      RE -21.3393   55.4781           \n",
       "308   Turkmenabat      TM  39.0733   63.5786           \n",
       "351       Birecik      TR  37.0294   37.9903           \n",
       "399     Terrasini      IT  38.1460   13.0844           \n",
       "511     Luancheng      CN  37.8792  114.6517           \n",
       "537          Bari      IT  41.1177   16.8512           "
      ],
      "text/html": "<div>\n<style scoped>\n    .dataframe tbody tr th:only-of-type {\n        vertical-align: middle;\n    }\n\n    .dataframe tbody tr th {\n        vertical-align: top;\n    }\n\n    .dataframe thead th {\n        text-align: right;\n    }\n</style>\n<table border=\"1\" class=\"dataframe\">\n  <thead>\n    <tr style=\"text-align: right;\">\n      <th></th>\n      <th>City</th>\n      <th>Country</th>\n      <th>Lat</th>\n      <th>Lng</th>\n      <th>Hotel Name</th>\n    </tr>\n  </thead>\n  <tbody>\n    <tr>\n      <th>4</th>\n      <td>Naples</td>\n      <td>IT</td>\n      <td>40.8333</td>\n      <td>14.2500</td>\n      <td></td>\n    </tr>\n    <tr>\n      <th>63</th>\n      <td>Kiryat Gat</td>\n      <td>IL</td>\n      <td>31.6100</td>\n      <td>34.7642</td>\n      <td></td>\n    </tr>\n    <tr>\n      <th>242</th>\n      <td>Marsaxlokk</td>\n      <td>MT</td>\n      <td>35.8419</td>\n      <td>14.5431</td>\n      <td></td>\n    </tr>\n    <tr>\n      <th>302</th>\n      <td>Saint-Pierre</td>\n      <td>RE</td>\n      <td>-21.3393</td>\n      <td>55.4781</td>\n      <td></td>\n    </tr>\n    <tr>\n      <th>308</th>\n      <td>Turkmenabat</td>\n      <td>TM</td>\n      <td>39.0733</td>\n      <td>63.5786</td>\n      <td></td>\n    </tr>\n    <tr>\n      <th>351</th>\n      <td>Birecik</td>\n      <td>TR</td>\n      <td>37.0294</td>\n      <td>37.9903</td>\n      <td></td>\n    </tr>\n    <tr>\n      <th>399</th>\n      <td>Terrasini</td>\n      <td>IT</td>\n      <td>38.1460</td>\n      <td>13.0844</td>\n      <td></td>\n    </tr>\n    <tr>\n      <th>511</th>\n      <td>Luancheng</td>\n      <td>CN</td>\n      <td>37.8792</td>\n      <td>114.6517</td>\n      <td></td>\n    </tr>\n    <tr>\n      <th>537</th>\n      <td>Bari</td>\n      <td>IT</td>\n      <td>41.1177</td>\n      <td>16.8512</td>\n      <td></td>\n    </tr>\n  </tbody>\n</table>\n</div>"
     },
     "metadata": {},
     "execution_count": 45
    }
   ],
   "source": [
    "# Display the hotel dataframe\n",
    "hotel_df"
   ]
  },
  {
   "cell_type": "code",
   "execution_count": 47,
   "metadata": {},
   "outputs": [],
   "source": [
    "# NOTE: Do not change any of the code in this cell\n",
    "\n",
    "# Using the template add the hotel marks to the heatmap\n",
    "info_box_template = \"\"\"\n",
    "<dl>\n",
    "<dt>Name</dt><dd>{Hotel Name}</dd>\n",
    "<dt>City</dt><dd>{City}</dd>\n",
    "<dt>Country</dt><dd>{Country}</dd>\n",
    "</dl>\n",
    "\"\"\"\n",
    "# Store the DataFrame Row\n",
    "# NOTE: be sure to update with your DataFrame name\n",
    "#hotel_info = [info_box_template.format(**row) for index, row in narrowed_city_df.iterrows()]\n",
    "hotel_info = [info_box_template.format(**row) for index, row in hotel_df.iterrows()]\n",
    "locations = hotel_df[[\"Lat\", \"Lng\"]]"
   ]
  },
  {
   "cell_type": "code",
   "execution_count": 48,
   "metadata": {},
   "outputs": [
    {
     "output_type": "display_data",
     "data": {
      "text/plain": "Figure(layout=FigureLayout(height='420px'))",
      "application/vnd.jupyter.widget-view+json": {
       "version_major": 2,
       "version_minor": 0,
       "model_id": "69221cbc95ad45ccb891e413224ee470"
      }
     },
     "metadata": {}
    }
   ],
   "source": [
    "# Add marker layer and info box content ontop of heat map\n",
    "markers = gmaps.marker_layer(locations, info_box_content = hotel_info)\n",
    "\n",
    "# Add the layer to the map\n",
    "fig.add_layer(markers)\n",
    "\n",
    "# Display Map\n",
    "fig"
   ]
  },
  {
   "cell_type": "code",
   "execution_count": null,
   "metadata": {},
   "outputs": [],
   "source": []
  }
 ],
 "metadata": {
  "kernelspec": {
   "name": "python3",
   "display_name": "Python 3.9.5 64-bit"
  },
  "language_info": {
   "codemirror_mode": {
    "name": "ipython",
    "version": 3
   },
   "file_extension": ".py",
   "mimetype": "text/x-python",
   "name": "python",
   "nbconvert_exporter": "python",
   "pygments_lexer": "ipython3",
   "version": "3.9.5"
  },
  "latex_envs": {
   "LaTeX_envs_menu_present": true,
   "autoclose": false,
   "autocomplete": true,
   "bibliofile": "biblio.bib",
   "cite_by": "apalike",
   "current_citInitial": 1,
   "eqLabelWithNumbers": true,
   "eqNumInitial": 1,
   "hotkeys": {
    "equation": "Ctrl-E",
    "itemize": "Ctrl-I"
   },
   "labels_anchors": false,
   "latex_user_defs": false,
   "report_style_numbering": false,
   "user_envs_cfg": false
  },
  "interpreter": {
   "hash": "7812ea015bdcee6f23a998adcdd2ef97c151c0c241b7b7070987d9313e41299d"
  }
 },
 "nbformat": 4,
 "nbformat_minor": 2
}